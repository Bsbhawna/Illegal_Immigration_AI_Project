{
 "cells": [
  {
   "cell_type": "code",
   "execution_count": 1,
   "id": "a6b5a8e6-b97d-4991-8088-dc5693427449",
   "metadata": {},
   "outputs": [],
   "source": [
    "def filter_alerts(alerts, selected_sources, selected_severities):\n",
    "    \"\"\"\n",
    "    Filter alerts based on selected sources and severity.\n",
    "    \"\"\"\n",
    "    return [\n",
    "        alert for alert in alerts\n",
    "        if alert[\"source\"] in selected_sources and alert[\"severity\"] in selected_severities\n",
    "    ]\n"
   ]
  }
 ],
 "metadata": {
  "kernelspec": {
   "display_name": "Python 3 (ipykernel)",
   "language": "python",
   "name": "python3"
  },
  "language_info": {
   "codemirror_mode": {
    "name": "ipython",
    "version": 3
   },
   "file_extension": ".py",
   "mimetype": "text/x-python",
   "name": "python",
   "nbconvert_exporter": "python",
   "pygments_lexer": "ipython3",
   "version": "3.11.11"
  }
 },
 "nbformat": 4,
 "nbformat_minor": 5
}
