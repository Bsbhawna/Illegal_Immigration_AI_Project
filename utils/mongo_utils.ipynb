{
 "cells": [
  {
   "cell_type": "code",
   "execution_count": 1,
   "id": "57740469-9cd6-43b1-babd-7d07d3b2c692",
   "metadata": {},
   "outputs": [],
   "source": [
    "# utils/mongo_utils.py\n",
    "\n",
    "from pymongo import MongoClient\n",
    "\n",
    "def get_mongo_collection(db_name, collection_name, uri=\"mongodb://localhost:27017/\"):\n",
    "    client = MongoClient(uri)\n",
    "    db = client[db_name]\n",
    "    return db[collection_name]\n"
   ]
  }
 ],
 "metadata": {
  "kernelspec": {
   "display_name": "Python 3 (ipykernel)",
   "language": "python",
   "name": "python3"
  },
  "language_info": {
   "codemirror_mode": {
    "name": "ipython",
    "version": 3
   },
   "file_extension": ".py",
   "mimetype": "text/x-python",
   "name": "python",
   "nbconvert_exporter": "python",
   "pygments_lexer": "ipython3",
   "version": "3.11.11"
  }
 },
 "nbformat": 4,
 "nbformat_minor": 5
}
