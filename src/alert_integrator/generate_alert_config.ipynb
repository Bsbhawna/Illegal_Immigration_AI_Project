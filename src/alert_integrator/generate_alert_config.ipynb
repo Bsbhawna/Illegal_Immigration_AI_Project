{
 "cells": [
  {
   "cell_type": "code",
   "execution_count": 2,
   "id": "11e544ef-e92f-4e1e-8a67-2c9d17ba17cb",
   "metadata": {},
   "outputs": [
    {
     "name": "stdout",
     "output_type": "stream",
     "text": [
      "✅ alert_config.json created successfully at: C:/Users/sharmbha/Downloads/Bhawna_project/Illegal_Immigration_AI_Project\\src\\alert_integrator\\alert_config.json\n"
     ]
    }
   ],
   "source": [
    "import json\n",
    "import os\n",
    "\n",
    "# ✅ Project Root\n",
    "project_root = \"C:/Users/sharmbha/Downloads/Bhawna_project/Illegal_Immigration_AI_Project\"\n",
    "\n",
    "# ✅ Config Dictionary\n",
    "config_data = {\n",
    "    \"cctv_alerts\": [\"src/cctv_analysis/dashboard_ready/cctv_alerts.json\"],\n",
    "    \"twitter_alerts\": [\n",
    "        \"src/social_media_analysis/twitter/dashboard_ready/twitter_entity_alerts.json\",\n",
    "        \"src/social_media_analysis/twitter/dashboard_ready/twitter_sentiment_alerts.json\",\n",
    "        \"src/social_media_analysis/twitter/dashboard_ready/twitter_sentiment_summary.json\"\n",
    "    ],\n",
    "    \"reddit_alerts\": [\n",
    "        \"src/social_media_analysis/reddit/dashboard_ready/reddit_entity_alerts.json\",\n",
    "        \"src/social_media_analysis/reddit/dashboard_ready/reddit_sentiment_alerts.json\"\n",
    "    ],\n",
    "    \"darkweb_alerts\": [\"data/processed/darkweb_alerts.json\"],\n",
    "    \"integrated_alerts_output\": \"data/alerts/integrated_alerts.json\",\n",
    "    \"mongodb\": {\n",
    "        \"enabled\": True,\n",
    "        \"uri\": \"mongodb://localhost:27017\",\n",
    "        \"db_name\": \"immigration_monitoring\",\n",
    "        \"collection\": \"integrated_alerts\"\n",
    "    }\n",
    "}\n",
    "\n",
    "# ✅ Save Path Using Absolute Reference\n",
    "config_dir = os.path.join(project_root, \"src\", \"alert_integrator\")\n",
    "os.makedirs(config_dir, exist_ok=True)\n",
    "\n",
    "config_path = os.path.join(config_dir, \"alert_config.json\")\n",
    "with open(config_path, \"w\") as f:\n",
    "    json.dump(config_data, f, indent=4)\n",
    "\n",
    "print(\"✅ alert_config.json created successfully at:\", config_path)\n"
   ]
  }
 ],
 "metadata": {
  "kernelspec": {
   "display_name": "Python 3 (ipykernel)",
   "language": "python",
   "name": "python3"
  },
  "language_info": {
   "codemirror_mode": {
    "name": "ipython",
    "version": 3
   },
   "file_extension": ".py",
   "mimetype": "text/x-python",
   "name": "python",
   "nbconvert_exporter": "python",
   "pygments_lexer": "ipython3",
   "version": "3.11.11"
  }
 },
 "nbformat": 4,
 "nbformat_minor": 5
}
